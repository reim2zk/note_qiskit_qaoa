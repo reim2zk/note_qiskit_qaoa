{
 "cells": [
  {
   "cell_type": "markdown",
   "id": "6990273f-e5cb-4672-ab13-82f4a06354d4",
   "metadata": {},
   "source": [
    "# QAOA memo"
   ]
  },
  {
   "cell_type": "markdown",
   "id": "58789be5-4470-41f5-a632-d0e69cb0731e",
   "metadata": {},
   "source": [
    "\n",
    "整数引数を持つコスト関数が与えらているとする。整数を適当な方法でbinaryにエンコードしたものを$C(x)$とする。\n",
    "\n",
    "量子コンピュータを用いて、コスト関数を最小にする解を発見するために、コスト関数$C(x)$を対角要素に持つハミルトニアンを考える。\n",
    "$$\n",
    "H = \\sum_{x\\in\\left\\{0,1\\right\\}^n}C(x) \\left|x\\right>\\left<x\\right|\n",
    "$$\n"
   ]
  },
  {
   "cell_type": "markdown",
   "id": "9caf06d7-84d7-4903-b50f-fc6f43e27ae9",
   "metadata": {},
   "source": [
    "コスト関数を最小化する$x$を発見する問題は、ハミルトニアン$H$の最小エネルギー固有値を持つ固有状態を発見する問題に置き換えることができる。\n",
    "\n",
    "最小エネルギー固有状態の近似するために、次の形の試行関数を考える。\n",
    "$$\n",
    "\\left|\\psi(\\gamma,\\beta)\\right> = \\prod_{k=1}^pe^{-i\\gamma_kH}e^{-i\\beta_kB}\\left|+\\right>^n\n",
    "$$"
   ]
  },
  {
   "cell_type": "markdown",
   "id": "6dbde2f2-aa42-49ba-bc78-b7ee98e67cf3",
   "metadata": {},
   "source": [
    "ここで、$B$は横磁場のハミルトニアンを表す。エネルギー期待値を最小化する$\\gamma,\\beta$が発見できれば、$\\left|\\psi(\\gamma,\\beta)\\right> $はエネルギー最小の固有状態に近く、ビットを観測することで高い頻度でコスト関数最小解が得られると期待できる。"
   ]
  },
  {
   "cell_type": "markdown",
   "id": "f1951fda-6e6b-4509-888d-ca23625e0df5",
   "metadata": {},
   "source": [
    "簡単な問題に対して、上記の計算を試みる。ハミルトニアンとして、\n",
    "$$\n",
    "H = Z_1-Z_2+Z_3-Z4\n",
    "$$\n",
    "を考える。これは、自明な解として、$(x_1,x_2,x_3,x_4)=(0,1,0,1)$を持つ。\n",
    "\n",
    "また、試行関数は次のような簡単な形で表現できる。\n",
    "$$\n",
    "\\left|\\psi(\\gamma,\\beta)\\right> = e^{-i\\gamma Z_1}e^{+i\\gamma Z_2} e^{-i\\gamma Z_3} e^{-i\\gamma Z_4} \n",
    "e^{i\\beta X_1}e^{i\\beta X_2}e^{i\\beta X_3}e^{i\\beta X_4}\\left|+\\right>^n\n",
    "$$"
   ]
  },
  {
   "cell_type": "markdown",
   "id": "4fe86f13-b205-41c6-9fed-27be480d4e4a",
   "metadata": {},
   "source": [
    "# Calculation"
   ]
  },
  {
   "cell_type": "code",
   "execution_count": 1,
   "id": "517ecbbb-3811-4d2f-b67f-cf2d842af25c",
   "metadata": {},
   "outputs": [
    {
     "name": "stdout",
     "output_type": "stream",
     "text": [
      "Requirement already satisfied: pylatexenc in /Users/s05904/work/2022_mirainage/1211_qiskit_qaoa/venv/lib/python3.9/site-packages (2.10)\n",
      "\u001b[33mWARNING: You are using pip version 20.2.3; however, version 22.3.1 is available.\n",
      "You should consider upgrading via the '/Users/s05904/work/2022_mirainage/1211_qiskit_qaoa/venv/bin/python -m pip install --upgrade pip' command.\u001b[0m\n"
     ]
    }
   ],
   "source": [
    "! pip install pylatexenc"
   ]
  },
  {
   "cell_type": "code",
   "execution_count": 2,
   "id": "47d27516-799c-483c-b05a-bb992bb50174",
   "metadata": {},
   "outputs": [],
   "source": [
    "import numpy as np\n",
    "import matplotlib.pyplot as plt\n",
    "from qiskit import QuantumCircuit, assemble, Aer, transpile\n",
    "from qiskit.visualization import plot_histogram\n",
    "from qiskit.opflow import Z, I"
   ]
  },
  {
   "cell_type": "code",
   "execution_count": 27,
   "id": "0fffa82a-56e9-4b9a-9b1e-d567b6a18fda",
   "metadata": {},
   "outputs": [],
   "source": [
    "def build_quantum_circuit(bs, gamma, beta):\n",
    "    n = len(bs)\n",
    "    qc = QuantumCircuit(n, n)\n",
    "    qc.h(range(n))\n",
    "    for j in range(n):\n",
    "        qc.rz(2*bs[j]*gamma, j)\n",
    "    qc.rx(-2*beta, range(n))\n",
    "    for j in range(n):\n",
    "        qc.measure(j, j)\n",
    "    return qc\n",
    "\n",
    "def calc_expected_energy(result, bs):\n",
    "    counts = result.get_counts()\n",
    "    total_energy = 0\n",
    "    shots = 0\n",
    "    for sample in list(counts.keys()):\n",
    "        xs = [int(n) for n in list(sample)]\n",
    "        zs = np.array(xs) * 2 - 1\n",
    "        eng = (zs * np.array(bs)).sum()\n",
    "        n = counts[sample]\n",
    "        total_energy += n * eng\n",
    "        shots += n\n",
    "    return total_energy / shots\n",
    "\n",
    "def run_simulation(qc, shots):\n",
    "    sim = Aer.get_backend(\"aer_simulator\")\n",
    "    tqc = transpile(qc, sim)\n",
    "    qobj = assemble(qc, shots=shots)\n",
    "    return sim.run(qobj).result()"
   ]
  },
  {
   "cell_type": "markdown",
   "id": "44e99d7e-8a4c-41e1-bc5c-37ea4522be55",
   "metadata": {},
   "source": [
    "ハミルトニアン\n",
    "$$\n",
    "H = Z_1-Z_2+Z_3-Z4\n",
    "$$\n",
    "に対して、$\\beta=1, \\gamma=0$の試行関数を使って1000回のシミュレーションを行う。"
   ]
  },
  {
   "cell_type": "code",
   "execution_count": 28,
   "id": "0669ca40-fefe-4d9e-8d00-dd9d7a839884",
   "metadata": {},
   "outputs": [
    {
     "name": "stdout",
     "output_type": "stream",
     "text": [
      "expected energy = 0.022\n"
     ]
    },
    {
     "data": {
      "image/png": "[encoded data removed]",
      "text/plain": [
       "<Figure size 400x400 with 1 Axes>"
      ]
     },
     "execution_count": 28,
     "metadata": {},
     "output_type": "execute_result"
    }
   ],
   "source": [
    "bs = [1.0, -1.0, 1.0, -1.0]\n",
    "qc = build_quantum_circuit(bs=bs, gamma = 0.0, beta = 1.0)\n",
    "result = run_simulation(qc, shots=1000)\n",
    "expected_energy = calc_expected_energy(result, bs)\n",
    "print(\"expected energy = {}\".format(expected_energy))\n",
    "plot_histogram(result.get_counts(), figsize=(4, 4), bar_labels = False)"
   ]
  },
  {
   "cell_type": "markdown",
   "id": "02ec3041-b2d5-4406-b001-2c09eea9f070",
   "metadata": {},
   "source": [
    "エネルギー期待値は、最小エネルギー-4からは遠く、分布もまばらになっている。"
   ]
  },
  {
   "cell_type": "markdown",
   "id": "365fa723-1600-45a1-b0d6-38e5c22d3e0d",
   "metadata": {},
   "source": [
    "グリッドサーチを用いて、エネルギー期待値を最小化するパラメータ$\\gamma,\\beta$を探索する。"
   ]
  },
  {
   "cell_type": "code",
   "execution_count": 13,
   "id": "317bcb94-1e1b-4c5c-bb3d-5f3e826ee595",
   "metadata": {},
   "outputs": [
    {
     "data": {
      "text/plain": [
       "[-3.972, 2.4000000000000004, 2.4000000000000004]"
      ]
     },
     "execution_count": 13,
     "metadata": {},
     "output_type": "execute_result"
    }
   ],
   "source": [
    "bs = [1.0, -1.0, 1.0, -1.0]\n",
    "mins = [10000, None, None]\n",
    "for gamma in np.linspace(1.0, 3.0, 11):\n",
    "    for beta in np.linspace(1.0, 3.0, 11):\n",
    "        qc = build_quantum_circuit(bs=bs, gamma = gamma, beta = beta)\n",
    "        result = run_simulation(qc, shots=1000)\n",
    "        energy = calc_expected_energy(result, bs)\n",
    "        if mins[0] > energy:\n",
    "            mins[0] = energy\n",
    "            mins[1] = gamma\n",
    "            mins[2] = beta\n",
    "mins"
   ]
  },
  {
   "cell_type": "markdown",
   "id": "ce8d1f87-ca26-44a7-962c-12fbb40ab8a9",
   "metadata": {},
   "source": [
    "最小エネルギー-4に近いエネルギー期待値が得られた。また、最小化パラメータとして、$\\gamma=\\beta=2.4$を得た。\n",
    "\n",
    "得られたパラメータを使って、再度１０００回のsamplingを行う。"
   ]
  },
  {
   "cell_type": "code",
   "execution_count": 14,
   "id": "12f8757f-a9c7-4f13-bf8b-b174f93b1da9",
   "metadata": {},
   "outputs": [
    {
     "data": {
      "image/png": "[encoded data removed]",
      "text/plain": [
       "<Figure size 400x400 with 1 Axes>"
      ]
     },
     "execution_count": 14,
     "metadata": {},
     "output_type": "execute_result"
    }
   ],
   "source": [
    "qc = build_quantum_circuit(bs=bs, gamma = 2.4, beta = 2.4)\n",
    "result = run_simulation(qc, shots=1000)\n",
    "plot_histogram(result.get_counts(), figsize = (4, 4), bar_labels = False)"
   ]
  },
  {
   "cell_type": "markdown",
   "id": "bed0f9eb-a8ce-41c3-877e-bea24c759ec2",
   "metadata": {},
   "source": [
    "自明な最小解である0101が非常に高い頻度で得られていることがわかる。"
   ]
  }
 ],
 "metadata": {
  "kernelspec": {
   "display_name": "Python 3 (ipykernel)",
   "language": "python",
   "name": "python3"
  },
  "language_info": {
   "codemirror_mode": {
    "name": "ipython",
    "version": 3
   },
   "file_extension": ".py",
   "mimetype": "text/x-python",
   "name": "python",
   "nbconvert_exporter": "python",
   "pygments_lexer": "ipython3",
   "version": "3.9.1"
  }
 },
 "nbformat": 4,
 "nbformat_minor": 5
}
